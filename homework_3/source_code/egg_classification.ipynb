{
 "cells": [
  {
   "cell_type": "code",
   "execution_count": null,
   "id": "7c64a0fa",
   "metadata": {},
   "outputs": [
    {
     "name": "stdout",
     "output_type": "stream",
     "text": [
      "      Egg Type  Length (cm)  Width (cm)  Weight (g) Algebraic Classification  \\\n",
      "0  Chicken Egg          4.3         3.3          35              Chicken Egg   \n",
      "1  Chicken Egg          4.7         3.5          39              Chicken Egg   \n",
      "2     Duck Egg          6.2         4.2          64                 Duck Egg   \n",
      "3     Duck Egg          6.1         4.3          63                 Duck Egg   \n",
      "4    Quail Egg          3.4         2.4          13                Quail Egg   \n",
      "5    Quail Egg          3.2         2.4          12                Quail Egg   \n",
      "\n",
      "  K-NN Classification  \n",
      "0         Chicken Egg  \n",
      "1         Chicken Egg  \n",
      "2            Duck Egg  \n",
      "3            Duck Egg  \n",
      "4           Quail Egg  \n",
      "5           Quail Egg  \n"
     ]
    }
   ],
   "source": [
    "import pandas as pd\n",
    "from sklearn.linear_model import LogisticRegression\n",
    "from sklearn.neighbors import KNeighborsClassifier\n",
    "\n",
    "print(\"Setup completed\")"
   ]
  },
  {
   "cell_type": "code",
   "execution_count": null,
   "id": "5a8b9b19",
   "metadata": {},
   "outputs": [],
   "source": [
    "reference_data = pd.read_csv('../data/reference_data.csv')\n",
    "testing_data = pd.read_csv('../data/testing_data.csv')\n",
    "\n",
    "X_train = reference_data[['Length (cm)', 'Width (cm)', 'Weight (g)']]\n",
    "y_train = reference_data['Egg Type']\n",
    "\n",
    "X_test = testing_data[['Length (cm)', 'Width (cm)', 'Weight (g)']]"
   ]
  },
  {
   "cell_type": "code",
   "execution_count": null,
   "id": "50731c52",
   "metadata": {},
   "outputs": [],
   "source": [
    "# Classify using Algebraic method\n",
    "log_model = LogisticRegression(max_iter=1000)\n",
    "log_model.fit(X_train, y_train)\n",
    "log_preds = log_model.predict(X_test)"
   ]
  },
  {
   "cell_type": "code",
   "execution_count": null,
   "id": "2894d659",
   "metadata": {},
   "outputs": [],
   "source": [
    "# Classify using K-Nearest Neighbors (K-NN) method\n",
    "knn_model = KNeighborsClassifier(n_neighbors=3)\n",
    "knn_model.fit(X_train, y_train)\n",
    "knn_preds = knn_model.predict(X_test)"
   ]
  },
  {
   "cell_type": "code",
   "execution_count": null,
   "id": "10714f45",
   "metadata": {},
   "outputs": [],
   "source": [
    "# Merge classification results\n",
    "testing_data['Algebraic Classification'] = log_preds\n",
    "testing_data['K-NN Classification'] = knn_preds\n",
    "\n",
    "# Print classification results\n",
    "print(testing_data)\n",
    "\n",
    "# Save updated testing_data\n",
    "testing_data.to_csv('../data/testing_data.csv', index=False)"
   ]
  }
 ],
 "metadata": {
  "kernelspec": {
   "display_name": "Python 3",
   "language": "python",
   "name": "python3"
  },
  "language_info": {
   "codemirror_mode": {
    "name": "ipython",
    "version": 3
   },
   "file_extension": ".py",
   "mimetype": "text/x-python",
   "name": "python",
   "nbconvert_exporter": "python",
   "pygments_lexer": "ipython3",
   "version": "3.12.2"
  }
 },
 "nbformat": 4,
 "nbformat_minor": 5
}
